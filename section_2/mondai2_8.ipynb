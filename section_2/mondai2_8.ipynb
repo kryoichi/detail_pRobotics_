{
 "cells": [
  {
   "cell_type": "markdown",
   "metadata": {},
   "source": [
    "# 解き方の仮説\n",
    "1. センサデータに被りがないので推測はセンサ値の含まれる値の範囲から算出できる\n",
    "2. センサデータは被る．irのみあるいはlidarの被っていないデータを200~1000まで全てまとめてからベイズで解く\n",
    "3. センサデータはir,lidarともに被る．ir,lidarの200~1000のデータをすべてまとめてからベイズで解く\n",
    "\n",
    "# 検証方法\n",
    "1. ir,lidarのデータの被りを検証\n",
    "2. それぞれの場合に応じて解く\n",
    "\n",
    "# 実際の解き方\n",
    "本の式(2.57),(2.58)より\n",
    "\\begin{eqnarray}\n",
    "    P(t|z_1,z_2,z_3) &=& \\eta P(z_1,z_2,z_3|t) \\\\\n",
    "    &=& \\eta P(z_1|t)P(z_2|t)P(z_3|t)P(t)    \n",
    "\\end{eqnarray}\n",
    "\n",
    "ir とlidarのセンサデータからどのセンサデータなのか推定したいので，以下のように変更\n",
    "\n",
    "$$\n",
    "    P(t|z_1,z_2)= \\eta P(z_1|t)P(z_2|t)P(t)\n",
    "$$\n",
    "\n",
    "ここで，$z_1$がirのセンサデータ，$z_2$がlidarのセンサデータ，$t$がセンサデータのラベルとしている\n",
    "\n",
    "# 備考\n",
    "- \"sensor_data_1000.txt\"だけデータがおかしいので，除外\n",
    "- 数式の書き方は[ここ](https://qiita.com/namoshika/items/63db972bfd1030f8264a)を参照\n",
    "- jupyternotebookでの文章の書き方は[ここ](https://myenigma.hatenablog.com/entry/2016/02/20/183423#Markdown%E3%81%A7%E6%96%87%E7%AB%A0%E3%82%92%E5%85%A5%E5%8A%9B%E3%81%99%E3%82%8B)を参照"
   ]
  },
  {
   "cell_type": "code",
   "execution_count": 103,
   "metadata": {},
   "outputs": [],
   "source": [
    "# データを結合\n",
    "\n",
    "import pandas as pd    ###dataread###（1〜4行目と出力の上5行くらいを図示）\n",
    "\n",
    "data200  = pd.read_csv(\"sensor_data_200.txt\", delimiter=\" \", header=None, names = (\"date\",\"time\",\"ir\",\"lidar\"))\n",
    "data200[\"dataNo\"] = 200\n",
    "data280  = pd.read_csv(\"sensor_data_280.txt\", delimiter=\" \", header=None, names = (\"date\",\"time\",\"ir\",\"lidar\"))\n",
    "data280[\"dataNo\"] = 280\n",
    "data300  = pd.read_csv(\"sensor_data_300.txt\", delimiter=\" \", header=None, names = (\"date\",\"time\",\"ir\",\"lidar\"))\n",
    "data300[\"dataNo\"] = 300\n",
    "data400  = pd.read_csv(\"sensor_data_400.txt\", delimiter=\" \", header=None, names = (\"date\",\"time\",\"ir\",\"lidar\"))\n",
    "data400[\"dataNo\"] = 400\n",
    "data500  = pd.read_csv(\"sensor_data_500.txt\", delimiter=\" \", header=None, names = (\"date\",\"time\",\"ir\",\"lidar\"))\n",
    "data500[\"dataNo\"] = 500\n",
    "data600  = pd.read_csv(\"sensor_data_600.txt\", delimiter=\" \", header=None, names = (\"date\",\"time\",\"ir\",\"lidar\"))\n",
    "data600[\"dataNo\"] = 600\n",
    "data700  = pd.read_csv(\"sensor_data_700.txt\", delimiter=\" \", header=None, names = (\"date\",\"time\",\"ir\",\"lidar\"))\n",
    "data700[\"dataNo\"] = 700\n",
    "\n",
    "D = pd.concat([data200,data280,data300,data400,data500,data600,data700])"
   ]
  },
  {
   "cell_type": "code",
   "execution_count": 104,
   "metadata": {},
   "outputs": [],
   "source": [
    "dataNo = [200,280,300,400,500,600,700]\n",
    "\n",
    "each_data_lidar = {i:d.lidar.get_group(i).value_counts().sort_index() for i in dataNo}\n",
    "freqs_lidar = pd.concat(each_data_lidar,axis=1)\n",
    "freqs_lidar = freqs_lidar.fillna(0)\n",
    "probs_lidar = freqs_lidar/len(D)\n",
    "\n",
    "each_data_ir = {i:d.ir.get_group(i).value_counts().sort_index() for i in dataNo}\n",
    "freqs_ir = pd.concat(each_data_ir,axis=1)\n",
    "freqs_ir = freqs_ir.fillna(0)\n",
    "probs_ir = freqs_ir/len(D)\n",
    "\n",
    "p_dataNo = pd.DataFrame(probs_lidar.sum())\n",
    "\n",
    "cond_lidar_dataNo = probs_lidar/p_dataNo[0]\n",
    "cond_ir_dataNo = probs_ir/p_dataNo[0]"
   ]
  },
  {
   "cell_type": "code",
   "execution_count": 133,
   "metadata": {},
   "outputs": [],
   "source": [
    "def bayes_est(dataNo, v_lidar, v_ir, p_dataNo, cond_lidar_dataNo, cond_ir_dataNo):\n",
    "    n_est = []\n",
    "    for i in dataNo:\n",
    "        n_est.append(cond_lidar_dataNo[i][v_lidar] * cond_ir_dataNo[i][v_ir] * p_dataNo[i])\n",
    "    \n",
    "    return n_est/sum(n_est)"
   ]
  },
  {
   "cell_type": "code",
   "execution_count": 140,
   "metadata": {
    "collapsed": true
   },
   "outputs": [
    {
     "data": {
      "text/plain": [
       "[<matplotlib.lines.Line2D at 0x1d9bb55ce48>]"
      ]
     },
     "execution_count": 140,
     "metadata": {},
     "output_type": "execute_result"
    },
    {
     "data": {
      "image/png": "[encoded data removed]",
      "text/plain": [
       "<Figure size 432x288 with 1 Axes>"
      ]
     },
     "metadata": {
      "needs_background": "light"
     },
     "output_type": "display_data"
    }
   ],
   "source": [
    "est = bayes_est(dataNo,300, 120, p_dataNo[0], cond_lidar_dataNo, cond_ir_dataNo)\n",
    "plt.plot(dataNo, est)"
   ]
  },
  {
   "cell_type": "code",
   "execution_count": 136,
   "metadata": {},
   "outputs": [
    {
     "data": {
      "image/png": "[encoded data removed]",
      "text/plain": [
       "<Figure size 432x288 with 1 Axes>"
      ]
     },
     "metadata": {
      "needs_background": "light"
     },
     "output_type": "display_data"
    },
    {
     "data": {
      "image/png": "[encoded data removed]",
      "text/plain": [
       "<Figure size 432x288 with 1 Axes>"
      ]
     },
     "metadata": {
      "needs_background": "light"
     },
     "output_type": "display_data"
    }
   ],
   "source": [
    "import matplotlib.pyplot as plt\n",
    "\n",
    "d=D.groupby(\"dataNo\")\n",
    "d.ir.get_group(280).hist(color=\"blue\")\n",
    "d.ir.get_group(300).hist(color=\"red\")\n",
    "plt.title(\"ir\")\n",
    "plt.show()\n",
    "d.lidar.get_group(280).hist(color=\"blue\")\n",
    "d.lidar.get_group(300).hist(color=\"red\")\n",
    "plt.title(\"lidar\")\n",
    "plt.show()"
   ]
  },
  {
   "cell_type": "code",
   "execution_count": 63,
   "metadata": {},
   "outputs": [],
   "source": [
    "import pandas as pd    ###dataread###（1〜4行目と出力の上5行くらいを図示）\n",
    "dataLst=[]\n",
    "dataNameLst = [\"sensor_data_200.txt\",\"sensor_data_280.txt\", \"sensor_data_300.txt\",\"sensor_data_400.txt\",\"sensor_data_500.txt\",\n",
    "               \"sensor_data_600.txt\",\"sensor_data_700.txt\"]\n",
    "dataLst = [pd.read_csv(\"{}\".format(n), delimiter=\" \", header=None, names = (\"date\",\"time\",\"ir\",\"lidar\")) for n in dataNameLst]\n"
   ]
  },
  {
   "cell_type": "code",
   "execution_count": 64,
   "metadata": {},
   "outputs": [],
   "source": [
    "def plot_sensor_lidar(dataLst,dataNameLst):\n",
    "    import matplotlib.pyplot as plt\n",
    "    \n",
    "    [dataLst[i][\"lidar\"].hist(bins = max(dataLst[i][\"lidar\"]) - min(dataLst[i][\"lidar\"]),align='left') for i in range(len(dataLst))]\n",
    "     \n",
    "    plt.show()"
   ]
  },
  {
   "cell_type": "code",
   "execution_count": 66,
   "metadata": {},
   "outputs": [],
   "source": [
    "def plot_sensor_ir(dataLst,dataNameLst):\n",
    "    import matplotlib.pyplot as plt\n",
    "    \n",
    "    [dataLst[i][\"ir\"].hist(bins = max(dataLst[i][\"ir\"]) - min(dataLst[i][\"ir\"]),align='left') for i in range(len(dataLst))]\n",
    "     \n",
    "    plt.show()"
   ]
  },
  {
   "cell_type": "code",
   "execution_count": 65,
   "metadata": {},
   "outputs": [
    {
     "data": {
      "image/png": "[encoded data removed]",
      "text/plain": [
       "<Figure size 432x288 with 1 Axes>"
      ]
     },
     "metadata": {
      "needs_background": "light"
     },
     "output_type": "display_data"
    }
   ],
   "source": [
    "plot_sensor_lidar(dataLst ,dataNameLst)"
   ]
  },
  {
   "cell_type": "code",
   "execution_count": 67,
   "metadata": {},
   "outputs": [
    {
     "data": {
      "image/png": "[encoded data removed]",
      "text/plain": [
       "<Figure size 432x288 with 1 Axes>"
      ]
     },
     "metadata": {
      "needs_background": "light"
     },
     "output_type": "display_data"
    }
   ],
   "source": [
    "plot_sensor_ir(dataLst,dataNameLst)"
   ]
  },
  {
   "cell_type": "code",
   "execution_count": null,
   "metadata": {},
   "outputs": [],
   "source": [
    "\n",
    "import matplotlib.pyplot as plt\n",
    "fig=plt.figure()\n",
    "ax1=fig.add_subplot(1,2,1)\n",
    "ax1=data200[\"lidar\"].hist(bins = max(data[\"lidar\"]) - min(data[\"lidar\"]),align='left')\n",
    "ax1.set_title(\"lidar 200.txt\")\n",
    "ax2=fig.add_subplot(1,2,2)\n",
    "ax2=data200[\"ir\"].hist(bins = max(data[\"ir\"]) - min(data[\"ir\"]),align='left')\n",
    "ax2.set_title(\"ir 200.txt\")\n",
    "plt.show()\n"
   ]
  },
  {
   "cell_type": "code",
   "execution_count": 16,
   "metadata": {
    "scrolled": false
   },
   "outputs": [
    {
     "data": {
      "image/png": "[encoded data removed]",
      "text/plain": [
       "<Figure size 432x288 with 2 Axes>"
      ]
     },
     "metadata": {
      "needs_background": "light"
     },
     "output_type": "display_data"
    }
   ],
   "source": [
    "data280  = pd.read_csv(\"sensor_data_280.txt\", delimiter=\" \",  header=None, names = (\"date\",\"time\",\"ir\",\"lidar\"))\n",
    "import matplotlib.pyplot as plt\n",
    "fig=plt.figure()\n",
    "ax1=fig.add_subplot(1,2,1)\n",
    "ax1=data280[\"lidar\"].hist(bins = max(data[\"lidar\"]) - min(data[\"lidar\"]),align='left')\n",
    "ax1.set_title(\"lidar 280txt\")\n",
    "ax2=fig.add_subplot(1,2,2)\n",
    "ax2=data280[\"ir\"].hist(bins = max(data[\"ir\"]) - min(data[\"ir\"]),align='left')\n",
    "ax2.set_title(\"ir 280txt\")\n",
    "plt.show()"
   ]
  },
  {
   "cell_type": "code",
   "execution_count": 4,
   "metadata": {},
   "outputs": [
    {
     "name": "stdout",
     "output_type": "stream",
     "text": [
      "209.73713297619855 209.73713297619855\n"
     ]
    }
   ],
   "source": [
    "mean1 = sum(data[\"lidar\"].values)/len(data[\"lidar\"].values)   ###calcmean###\n",
    "mean2 = data[\"lidar\"].mean()\n",
    "print(mean1,mean2)"
   ]
  },
  {
   "cell_type": "code",
   "execution_count": 5,
   "metadata": {},
   "outputs": [
    {
     "data": {
      "image/png": "[encoded data removed]",
      "text/plain": [
       "<Figure size 432x288 with 1 Axes>"
      ]
     },
     "metadata": {
      "needs_background": "light"
     },
     "output_type": "display_data"
    }
   ],
   "source": [
    "data[\"lidar\"].hist(bins = max(data[\"lidar\"]) - min(data[\"lidar\"]),color=\"orange\",align='left')   ###avgplot###\n",
    "plt.vlines(mean1,ymin=0,ymax=5000,color=\"red\")\n",
    "plt.show()"
   ]
  },
  {
   "cell_type": "code",
   "execution_count": 6,
   "metadata": {},
   "outputs": [
    {
     "name": "stdout",
     "output_type": "stream",
     "text": [
      "23.407709770274106\n",
      "23.40810659855441\n",
      "23.4077097702742\n",
      "23.408106598554504\n",
      "23.4077097702742\n",
      "23.408106598554504\n"
     ]
    }
   ],
   "source": [
    "# 定義から計算　                     ### calcvar\n",
    "zs = data[\"lidar\"].values  \n",
    "mean = sum(zs)/len(zs)\n",
    "diff_square = [ (z - mean)**2 for z in zs]\n",
    "\n",
    "sampling_var = sum(diff_square)/(len(zs))     # 標本分散\n",
    "unbiased_var = sum(diff_square)/(len(zs)-1) # 不偏分散\n",
    "\n",
    "print(sampling_var)\n",
    "print(unbiased_var)\n",
    "\n",
    "# Pandasを使用\n",
    "pandas_sampling_var = data[\"lidar\"].var(ddof=False) # 標本分散\n",
    "pandas_default_var = data[\"lidar\"].var()        # デフォルト（不偏分散）\n",
    "\n",
    "print(pandas_sampling_var)\n",
    "print(pandas_default_var)\n",
    "\n",
    "# NumPyを使用\n",
    "import numpy as np\n",
    "\n",
    "numpy_default_var = np.var(data[\"lidar\"])  # デフォルト（標本分散）\n",
    "numpy_unbiased_var = np.var(data[\"lidar\"], ddof=1)  # 不偏分散\n",
    "\n",
    "print(numpy_default_var)\n",
    "print(numpy_unbiased_var)"
   ]
  },
  {
   "cell_type": "code",
   "execution_count": 7,
   "metadata": {},
   "outputs": [
    {
     "name": "stdout",
     "output_type": "stream",
     "text": [
      "4.838151482774605\n",
      "4.83819249292072\n",
      "4.838192492920729\n"
     ]
    }
   ],
   "source": [
    "import math ###  calcstddev\n",
    "\n",
    "# 定義から計算\n",
    "stddev1 = math.sqrt(sampling_var)\n",
    "stddev2 = math.sqrt(unbiased_var)\n",
    "\n",
    "# Pandasを使用 \n",
    "pandas_stddev = data[\"lidar\"].std()\n",
    "\n",
    "print(stddev1)\n",
    "print(stddev2)\n",
    "print(pandas_stddev)"
   ]
  },
  {
   "cell_type": "code",
   "execution_count": 8,
   "metadata": {
    "scrolled": true
   },
   "outputs": [
    {
     "data": {
      "text/html": [
       "<div>\n",
       "<style scoped>\n",
       "    .dataframe tbody tr th:only-of-type {\n",
       "        vertical-align: middle;\n",
       "    }\n",
       "\n",
       "    .dataframe tbody tr th {\n",
       "        vertical-align: top;\n",
       "    }\n",
       "\n",
       "    .dataframe thead th {\n",
       "        text-align: right;\n",
       "    }\n",
       "</style>\n",
       "<table border=\"1\" class=\"dataframe\">\n",
       "  <thead>\n",
       "    <tr style=\"text-align: right;\">\n",
       "      <th></th>\n",
       "      <th>211</th>\n",
       "      <th>210</th>\n",
       "      <th>208</th>\n",
       "      <th>209</th>\n",
       "      <th>212</th>\n",
       "      <th>207</th>\n",
       "      <th>213</th>\n",
       "      <th>206</th>\n",
       "      <th>214</th>\n",
       "      <th>205</th>\n",
       "      <th>...</th>\n",
       "      <th>197</th>\n",
       "      <th>196</th>\n",
       "      <th>223</th>\n",
       "      <th>224</th>\n",
       "      <th>226</th>\n",
       "      <th>195</th>\n",
       "      <th>194</th>\n",
       "      <th>193</th>\n",
       "      <th>227</th>\n",
       "      <th>229</th>\n",
       "    </tr>\n",
       "  </thead>\n",
       "  <tbody>\n",
       "    <tr>\n",
       "      <th>lidar</th>\n",
       "      <td>4409</td>\n",
       "      <td>4355</td>\n",
       "      <td>4261</td>\n",
       "      <td>4228</td>\n",
       "      <td>4201</td>\n",
       "      <td>3920</td>\n",
       "      <td>3897</td>\n",
       "      <td>3674</td>\n",
       "      <td>3572</td>\n",
       "      <td>3225</td>\n",
       "      <td>...</td>\n",
       "      <td>84</td>\n",
       "      <td>59</td>\n",
       "      <td>55</td>\n",
       "      <td>32</td>\n",
       "      <td>15</td>\n",
       "      <td>13</td>\n",
       "      <td>10</td>\n",
       "      <td>4</td>\n",
       "      <td>3</td>\n",
       "      <td>1</td>\n",
       "    </tr>\n",
       "  </tbody>\n",
       "</table>\n",
       "<p>1 rows × 35 columns</p>\n",
       "</div>"
      ],
      "text/plain": [
       "        211   210   208   209   212   207   213   206   214   205 ...   197  \\\n",
       "lidar  4409  4355  4261  4228  4201  3920  3897  3674  3572  3225 ...    84   \n",
       "\n",
       "       196  223  224  226  195  194  193  227  229  \n",
       "lidar   59   55   32   15   13   10    4    3    1  \n",
       "\n",
       "[1 rows x 35 columns]"
      ]
     },
     "execution_count": 8,
     "metadata": {},
     "output_type": "execute_result"
    }
   ],
   "source": [
    "freqs = pd.DataFrame(data[\"lidar\"].value_counts())  ###freqs###\n",
    "freqs.transpose() #横向きに出力してみましょう"
   ]
  },
  {
   "cell_type": "code",
   "execution_count": 9,
   "metadata": {},
   "outputs": [
    {
     "data": {
      "text/html": [
       "<div>\n",
       "<style scoped>\n",
       "    .dataframe tbody tr th:only-of-type {\n",
       "        vertical-align: middle;\n",
       "    }\n",
       "\n",
       "    .dataframe tbody tr th {\n",
       "        vertical-align: top;\n",
       "    }\n",
       "\n",
       "    .dataframe thead th {\n",
       "        text-align: right;\n",
       "    }\n",
       "</style>\n",
       "<table border=\"1\" class=\"dataframe\">\n",
       "  <thead>\n",
       "    <tr style=\"text-align: right;\">\n",
       "      <th></th>\n",
       "      <th>211</th>\n",
       "      <th>210</th>\n",
       "      <th>208</th>\n",
       "      <th>209</th>\n",
       "      <th>212</th>\n",
       "      <th>207</th>\n",
       "      <th>213</th>\n",
       "      <th>206</th>\n",
       "      <th>214</th>\n",
       "      <th>205</th>\n",
       "      <th>...</th>\n",
       "      <th>197</th>\n",
       "      <th>196</th>\n",
       "      <th>223</th>\n",
       "      <th>224</th>\n",
       "      <th>226</th>\n",
       "      <th>195</th>\n",
       "      <th>194</th>\n",
       "      <th>193</th>\n",
       "      <th>227</th>\n",
       "      <th>229</th>\n",
       "    </tr>\n",
       "  </thead>\n",
       "  <tbody>\n",
       "    <tr>\n",
       "      <th>lidar</th>\n",
       "      <td>4409.000000</td>\n",
       "      <td>4355.000000</td>\n",
       "      <td>4261.000000</td>\n",
       "      <td>4228.000000</td>\n",
       "      <td>4201.000000</td>\n",
       "      <td>3920.000000</td>\n",
       "      <td>3897.000000</td>\n",
       "      <td>3674.000000</td>\n",
       "      <td>3572.000000</td>\n",
       "      <td>3225.000000</td>\n",
       "      <td>...</td>\n",
       "      <td>84.000000</td>\n",
       "      <td>59.000</td>\n",
       "      <td>55.000000</td>\n",
       "      <td>32.000000</td>\n",
       "      <td>15.000000</td>\n",
       "      <td>13.00000</td>\n",
       "      <td>10.00000</td>\n",
       "      <td>4.000000</td>\n",
       "      <td>3.000000</td>\n",
       "      <td>1.000000</td>\n",
       "    </tr>\n",
       "    <tr>\n",
       "      <th>probs</th>\n",
       "      <td>0.074744</td>\n",
       "      <td>0.073829</td>\n",
       "      <td>0.072235</td>\n",
       "      <td>0.071676</td>\n",
       "      <td>0.071218</td>\n",
       "      <td>0.066454</td>\n",
       "      <td>0.066064</td>\n",
       "      <td>0.062284</td>\n",
       "      <td>0.060555</td>\n",
       "      <td>0.054672</td>\n",
       "      <td>...</td>\n",
       "      <td>0.001424</td>\n",
       "      <td>0.001</td>\n",
       "      <td>0.000932</td>\n",
       "      <td>0.000542</td>\n",
       "      <td>0.000254</td>\n",
       "      <td>0.00022</td>\n",
       "      <td>0.00017</td>\n",
       "      <td>0.000068</td>\n",
       "      <td>0.000051</td>\n",
       "      <td>0.000017</td>\n",
       "    </tr>\n",
       "  </tbody>\n",
       "</table>\n",
       "<p>2 rows × 35 columns</p>\n",
       "</div>"
      ],
      "text/plain": [
       "               211          210          208          209          212  \\\n",
       "lidar  4409.000000  4355.000000  4261.000000  4228.000000  4201.000000   \n",
       "probs     0.074744     0.073829     0.072235     0.071676     0.071218   \n",
       "\n",
       "               207          213          206          214          205  \\\n",
       "lidar  3920.000000  3897.000000  3674.000000  3572.000000  3225.000000   \n",
       "probs     0.066454     0.066064     0.062284     0.060555     0.054672   \n",
       "\n",
       "         ...           197     196        223        224        226       195  \\\n",
       "lidar    ...     84.000000  59.000  55.000000  32.000000  15.000000  13.00000   \n",
       "probs    ...      0.001424   0.001   0.000932   0.000542   0.000254   0.00022   \n",
       "\n",
       "            194       193       227       229  \n",
       "lidar  10.00000  4.000000  3.000000  1.000000  \n",
       "probs   0.00017  0.000068  0.000051  0.000017  \n",
       "\n",
       "[2 rows x 35 columns]"
      ]
     },
     "execution_count": 9,
     "metadata": {},
     "output_type": "execute_result"
    }
   ],
   "source": [
    "freqs[\"probs\"] = freqs[\"lidar\"]/len(data[\"lidar\"]) ###addprobs###\n",
    "freqs.transpose()"
   ]
  },
  {
   "cell_type": "code",
   "execution_count": 10,
   "metadata": {
    "scrolled": true
   },
   "outputs": [
    {
     "data": {
      "text/plain": [
       "1.0"
      ]
     },
     "execution_count": 10,
     "metadata": {},
     "output_type": "execute_result"
    }
   ],
   "source": [
    "sum(freqs[\"probs\"])  ###confirmsum###"
   ]
  },
  {
   "cell_type": "code",
   "execution_count": 11,
   "metadata": {},
   "outputs": [
    {
     "data": {
      "image/png": "[encoded data removed]",
      "text/plain": [
       "<Figure size 432x288 with 1 Axes>"
      ]
     },
     "metadata": {
      "needs_background": "light"
     },
     "output_type": "display_data"
    }
   ],
   "source": [
    "freqs[\"probs\"].sort_index().plot.bar(color=\"blue\")   ###probdist###\n",
    "plt.show()"
   ]
  },
  {
   "cell_type": "code",
   "execution_count": 12,
   "metadata": {},
   "outputs": [
    {
     "data": {
      "text/plain": [
       "210"
      ]
     },
     "execution_count": 12,
     "metadata": {},
     "output_type": "execute_result"
    }
   ],
   "source": [
    "def drawing(): #ややこしいので関数として定義  ###one_sampling###\n",
    "    return freqs.sample(n=1, weights=\"probs\").index[0]\n",
    "\n",
    "drawing() # 実行"
   ]
  },
  {
   "cell_type": "code",
   "execution_count": 13,
   "metadata": {},
   "outputs": [
    {
     "data": {
      "image/png": "[encoded data removed]",
      "text/plain": [
       "<Figure size 432x288 with 1 Axes>"
      ]
     },
     "metadata": {
      "needs_background": "light"
     },
     "output_type": "display_data"
    }
   ],
   "source": [
    "samples = [ drawing() for i in range(len(data))] ### sampling_simulation ###\n",
    "#samples = [ drawing() for i in range(100)] #コーディング中は1行目の代わりにこちらを使う\n",
    "simulated = pd.DataFrame(samples, columns=[\"lidar\"])\n",
    "p = simulated[\"lidar\"]\n",
    "p.hist(bins = max(p) - min(p),color=\"orange\",align='left')  \n",
    "plt.show()"
   ]
  },
  {
   "cell_type": "code",
   "execution_count": 14,
   "metadata": {},
   "outputs": [],
   "source": [
    "def p(z, mu=209.7, dev=23.4):   ###pdf_from_def###\n",
    "    return math.exp(-(z - mu)**2/(2*dev))/math.sqrt(2*math.pi*dev)"
   ]
  },
  {
   "cell_type": "code",
   "execution_count": 15,
   "metadata": {
    "scrolled": true
   },
   "outputs": [
    {
     "data": {
      "image/png": "[encoded data removed]",
      "text/plain": [
       "<Figure size 432x288 with 1 Axes>"
      ]
     },
     "metadata": {
      "needs_background": "light"
     },
     "output_type": "display_data"
    }
   ],
   "source": [
    "zs = range(190,230)   ###pdf_plot_from_def###\n",
    "ys = [p(z) for z in zs]\n",
    "\n",
    "plt.plot(zs,ys)\n",
    "plt.show()"
   ]
  },
  {
   "cell_type": "code",
   "execution_count": 16,
   "metadata": {},
   "outputs": [
    {
     "data": {
      "image/png": "[encoded data removed]",
      "text/plain": [
       "<Figure size 432x288 with 1 Axes>"
      ]
     },
     "metadata": {
      "needs_background": "light"
     },
     "output_type": "display_data"
    }
   ],
   "source": [
    "def prob(z,width=0.5):                                     ###prob_plot_from_def###\n",
    "    return width*( p(z-width) + p(z+width) )\n",
    "\n",
    "zs = range(190,230)\n",
    "ys = [prob(z) for z in zs]\n",
    "\n",
    "plt.bar(zs,ys, color=\"red\", alpha=0.3) #alphaでグラフを透明にできる\n",
    "f = freqs[\"probs\"].sort_index()\n",
    "plt.bar(f.index, f.values, color=\"blue\", alpha=0.3)\n",
    "plt.show()"
   ]
  },
  {
   "cell_type": "code",
   "execution_count": 17,
   "metadata": {
    "scrolled": true
   },
   "outputs": [
    {
     "data": {
      "image/png": "[encoded data removed]",
      "text/plain": [
       "<Figure size 432x288 with 1 Axes>"
      ]
     },
     "metadata": {
      "needs_background": "light"
     },
     "output_type": "display_data"
    }
   ],
   "source": [
    "from scipy.stats import norm    ###pdf_plot_from_lib###\n",
    "\n",
    "zs = range(190,230)\n",
    "ys = [norm.pdf(z, mean1, stddev1) for z in zs]\n",
    "\n",
    "plt.plot(zs,ys)\n",
    "plt.show()"
   ]
  },
  {
   "cell_type": "code",
   "execution_count": 18,
   "metadata": {},
   "outputs": [
    {
     "data": {
      "image/png": "[encoded data removed]",
      "text/plain": [
       "<Figure size 432x288 with 1 Axes>"
      ]
     },
     "metadata": {
      "needs_background": "light"
     },
     "output_type": "display_data"
    }
   ],
   "source": [
    "zs = range(190,230)                                ###cdf###\n",
    "ys = [norm.cdf(z, mean1, stddev1) for z in zs]\n",
    "\n",
    "plt.plot(zs,ys, color=\"red\") \n",
    "plt.show()"
   ]
  },
  {
   "cell_type": "code",
   "execution_count": 19,
   "metadata": {},
   "outputs": [
    {
     "data": {
      "image/png": "[encoded data removed]",
      "text/plain": [
       "<Figure size 432x288 with 1 Axes>"
      ]
     },
     "metadata": {
      "needs_background": "light"
     },
     "output_type": "display_data"
    }
   ],
   "source": [
    "zs = range(190,230)              ###prob_cdf###\n",
    "ys = [norm.cdf(z+0.5, mean1, stddev1) -  norm.cdf(z-0.5, mean1, stddev1) for z in zs]\n",
    "\n",
    "plt.bar(zs,ys)\n",
    "plt.show()"
   ]
  },
  {
   "cell_type": "code",
   "execution_count": 20,
   "metadata": {},
   "outputs": [
    {
     "data": {
      "image/png": "[encoded data removed]",
      "text/plain": [
       "<Figure size 432x288 with 1 Axes>"
      ]
     },
     "metadata": {
      "needs_background": "light"
     },
     "output_type": "display_data"
    }
   ],
   "source": [
    "data[\"ir\"].hist(bins = max(data[\"ir\"]) - min(data[\"ir\"]),align='left')\n",
    "plt.show()"
   ]
  },
  {
   "cell_type": "code",
   "execution_count": 21,
   "metadata": {},
   "outputs": [
    {
     "data": {
      "image/png": "[encoded data removed]",
      "text/plain": [
       "<Figure size 432x288 with 1 Axes>"
      ]
     },
     "metadata": {
      "needs_background": "light"
     },
     "output_type": "display_data"
    }
   ],
   "source": [
    "data.ir.plot()\n",
    "plt.show()"
   ]
  },
  {
   "cell_type": "code",
   "execution_count": null,
   "metadata": {},
   "outputs": [],
   "source": []
  }
 ],
 "metadata": {
  "kernelspec": {
   "display_name": "Python 3",
   "language": "python",
   "name": "python3"
  },
  "language_info": {
   "codemirror_mode": {
    "name": "ipython",
    "version": 3
   },
   "file_extension": ".py",
   "mimetype": "text/x-python",
   "name": "python",
   "nbconvert_exporter": "python",
   "pygments_lexer": "ipython3",
   "version": "3.7.4"
  }
 },
 "nbformat": 4,
 "nbformat_minor": 2
}
