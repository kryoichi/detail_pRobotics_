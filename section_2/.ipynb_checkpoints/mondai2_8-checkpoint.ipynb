{
 "cells": [
  {
   "cell_type": "markdown",
   "metadata": {},
   "source": [
    "# 解き方の仮説\n",
    "1. センサデータに被りがないので推測はセンサ値の含まれる値の範囲から算出できる\n",
    "2. センサデータは被る．irのみあるいはlidarの被っていないデータを200~1000まで全てまとめてからベイズで解く\n",
    "3. センサデータはir,lidarともに被る．ir,lidarの200~1000のデータをすべてまとめてからベイズで解く\n",
    "\n",
    "# 検証方法\n",
    "1. ir,lidarのデータの被りを検証\n",
    "2. それぞれの場合に応じて解く\n",
    "\n",
    "# 実際の解き方\n",
    "本の式(2.57),(2.58)より\n",
    "\\begin{eqnarray}\n",
    "    P(t|z_1,z_2,z_3) &=& \\eta P(z_1,z_2,z_3|t) \\\\\n",
    "    &=& \\eta P(z_1|t)P(z_2|t)P(z_3|t)P(t)    \n",
    "\\end{eqnarray}\n",
    "\n",
    "ir とlidarのセンサデータからどのセンサデータなのか推定したいので，以下のように変更\n",
    "\n",
    "\\begin{equation}\n",
    "\\label{bays_est}\n",
    "    P(t|z_1,z_2)= \\eta P(z_1|t)P(z_2|t)P(t)\\tag{1}\n",
    "\\end{equation}\n",
    "\n",
    "ここで，$z_1$がirのセンサデータ，$z_2$がlidarのセンサデータ，$t$がセンサデータのラベルとしている\n",
    "\n",
    "# 備考\n",
    "- \"sensor_data_1000.txt\"だけデータがおかしいので，除外\n",
    "- 数式の書き方は[ここ](https://qiita.com/namoshika/items/63db972bfd1030f8264a)を参照\n",
    "- jupyternotebookでの文章の書き方は[ここ](https://myenigma.hatenablog.com/entry/2016/02/20/183423#Markdown%E3%81%A7%E6%96%87%E7%AB%A0%E3%82%92%E5%85%A5%E5%8A%9B%E3%81%99%E3%82%8B)を参照"
   ]
  },
  {
   "cell_type": "markdown",
   "metadata": {},
   "source": [
    "# コードと説明\n",
    "まずセンサーデータをつなげて一つのデータとする"
   ]
  },
  {
   "cell_type": "code",
   "execution_count": 1,
   "metadata": {},
   "outputs": [],
   "source": [
    "# データを結合\n",
    "\n",
    "import pandas as pd    ###dataread###（1〜4行目と出力の上5行くらいを図示）\n",
    "\n",
    "data200  = pd.read_csv(\"sensor_data_200.txt\", delimiter=\" \", header=None, names = (\"date\",\"time\",\"ir\",\"lidar\"))\n",
    "data200[\"dataNo\"] = 200\n",
    "data280  = pd.read_csv(\"sensor_data_280.txt\", delimiter=\" \", header=None, names = (\"date\",\"time\",\"ir\",\"lidar\"))\n",
    "data280[\"dataNo\"] = 280\n",
    "data300  = pd.read_csv(\"sensor_data_300.txt\", delimiter=\" \", header=None, names = (\"date\",\"time\",\"ir\",\"lidar\"))\n",
    "data300[\"dataNo\"] = 300\n",
    "data400  = pd.read_csv(\"sensor_data_400.txt\", delimiter=\" \", header=None, names = (\"date\",\"time\",\"ir\",\"lidar\"))\n",
    "data400[\"dataNo\"] = 400\n",
    "data500  = pd.read_csv(\"sensor_data_500.txt\", delimiter=\" \", header=None, names = (\"date\",\"time\",\"ir\",\"lidar\"))\n",
    "data500[\"dataNo\"] = 500\n",
    "data600  = pd.read_csv(\"sensor_data_600.txt\", delimiter=\" \", header=None, names = (\"date\",\"time\",\"ir\",\"lidar\"))\n",
    "data600[\"dataNo\"] = 600\n",
    "data700  = pd.read_csv(\"sensor_data_700.txt\", delimiter=\" \", header=None, names = (\"date\",\"time\",\"ir\",\"lidar\"))\n",
    "data700[\"dataNo\"] = 700\n",
    "\n",
    "D = pd.concat([data200,data280,data300,data400,data500,data600,data700])"
   ]
  },
  {
   "cell_type": "code",
   "execution_count": 3,
   "metadata": {},
   "outputs": [],
   "source": [
    "dataNo = [200,280,300,400,500,600,700]\n",
    "d=D.groupby(\"dataNo\")\n",
    "each_data_lidar = {i:d.lidar.get_group(i).value_counts().sort_index() for i in dataNo}\n",
    "freqs_lidar = pd.concat(each_data_lidar,axis=1)\n",
    "freqs_lidar = freqs_lidar.fillna(0)\n",
    "probs_lidar = freqs_lidar/len(D)\n",
    "\n",
    "each_data_ir = {i:d.ir.get_group(i).value_counts().sort_index() for i in dataNo}\n",
    "freqs_ir = pd.concat(each_data_ir,axis=1)\n",
    "freqs_ir = freqs_ir.fillna(0)\n",
    "probs_ir = freqs_ir/len(D)\n",
    "\n",
    "p_dataNo = pd.DataFrame(probs_lidar.sum())\n",
    "\n",
    "cond_lidar_dataNo = probs_lidar/p_dataNo[0]\n",
    "cond_ir_dataNo = probs_ir/p_dataNo[0]"
   ]
  },
  {
   "cell_type": "markdown",
   "metadata": {},
   "source": [
    "ここで，\n",
    "\n",
    "probs_lidarが$P(z_2,t)$\n",
    "\n",
    "probs_irが$P(z_1,t)$\n",
    "\n",
    "p_dataNoが$P(t)$\n",
    "\n",
    "cond_lidar_dataNoが$P(z_2|t)$\n",
    "\n",
    "cond_ir_dataNoが$P(z_1|t)$\n",
    "\n",
    "にそれぞれ該当する．また，ここまでで式(1)の右辺の要素が揃った"
   ]
  },
  {
   "cell_type": "markdown",
   "metadata": {},
   "source": [
    "次に，P43のlidar_600.ipynb[16]を参考にして，irとlidarのセンサ値をもとにどのセンサデータか推定する関数を作る"
   ]
  },
  {
   "cell_type": "code",
   "execution_count": 4,
   "metadata": {},
   "outputs": [],
   "source": [
    "def bayes_est(dataNo, v_lidar, v_ir, p_dataNo, cond_lidar_dataNo, cond_ir_dataNo):\n",
    "    n_est = []\n",
    "    for i in dataNo:\n",
    "        n_est.append(cond_lidar_dataNo[i][v_lidar] * cond_ir_dataNo[i][v_ir] * p_dataNo[i])\n",
    "    \n",
    "    return n_est/sum(n_est)"
   ]
  },
  {
   "cell_type": "markdown",
   "metadata": {},
   "source": [
    "試しにlidarとirのセンサデータを入力して推定させてみる"
   ]
  },
  {
   "cell_type": "code",
   "execution_count": 7,
   "metadata": {},
   "outputs": [
    {
     "data": {
      "text/plain": [
       "[<matplotlib.lines.Line2D at 0x1d9c9e64ac8>]"
      ]
     },
     "execution_count": 7,
     "metadata": {},
     "output_type": "execute_result"
    },
    {
     "data": {
      "image/png": "[encoded data removed]",
      "text/plain": [
       "<Figure size 432x288 with 1 Axes>"
      ]
     },
     "metadata": {
      "needs_background": "light"
     },
     "output_type": "display_data"
    }
   ],
   "source": [
    "est = bayes_est(dataNo,300, 120, p_dataNo[0], cond_lidar_dataNo, cond_ir_dataNo)\n",
    "import matplotlib.pyplot as plt\n",
    "plt.plot(dataNo, est)"
   ]
  },
  {
   "cell_type": "markdown",
   "metadata": {},
   "source": [
    "# データの重なりの検証\n",
    "以下のようにデータ280と300の数値が重なっているが，大小関係が入れ替わっているので２つのデータを使えばどのセンサデータなのかの確度が高まると思った．"
   ]
  },
  {
   "cell_type": "code",
   "execution_count": 136,
   "metadata": {},
   "outputs": [
    {
     "data": {
      "image/png": "[encoded data removed]",
      "text/plain": [
       "<Figure size 432x288 with 1 Axes>"
      ]
     },
     "metadata": {
      "needs_background": "light"
     },
     "output_type": "display_data"
    },
    {
     "data": {
      "image/png": "[encoded data removed]",
      "text/plain": [
       "<Figure size 432x288 with 1 Axes>"
      ]
     },
     "metadata": {
      "needs_background": "light"
     },
     "output_type": "display_data"
    }
   ],
   "source": [
    "import matplotlib.pyplot as plt\n",
    "\n",
    "d=D.groupby(\"dataNo\")\n",
    "d.ir.get_group(280).hist(color=\"blue\")\n",
    "d.ir.get_group(300).hist(color=\"red\")\n",
    "plt.title(\"ir\")\n",
    "plt.show()\n",
    "d.lidar.get_group(280).hist(color=\"blue\")\n",
    "d.lidar.get_group(300).hist(color=\"red\")\n",
    "plt.title(\"lidar\")\n",
    "plt.show()"
   ]
  },
  {
   "cell_type": "code",
   "execution_count": 63,
   "metadata": {},
   "outputs": [],
   "source": [
    "import pandas as pd    ###dataread###（1〜4行目と出力の上5行くらいを図示）\n",
    "dataLst=[]\n",
    "dataNameLst = [\"sensor_data_200.txt\",\"sensor_data_280.txt\", \"sensor_data_300.txt\",\"sensor_data_400.txt\",\"sensor_data_500.txt\",\n",
    "               \"sensor_data_600.txt\",\"sensor_data_700.txt\"]\n",
    "dataLst = [pd.read_csv(\"{}\".format(n), delimiter=\" \", header=None, names = (\"date\",\"time\",\"ir\",\"lidar\")) for n in dataNameLst]\n"
   ]
  },
  {
   "cell_type": "code",
   "execution_count": 64,
   "metadata": {},
   "outputs": [],
   "source": [
    "def plot_sensor_lidar(dataLst,dataNameLst):\n",
    "    import matplotlib.pyplot as plt\n",
    "    \n",
    "    [dataLst[i][\"lidar\"].hist(bins = max(dataLst[i][\"lidar\"]) - min(dataLst[i][\"lidar\"]),align='left') for i in range(len(dataLst))]\n",
    "     \n",
    "    plt.show()"
   ]
  },
  {
   "cell_type": "code",
   "execution_count": 66,
   "metadata": {},
   "outputs": [],
   "source": [
    "def plot_sensor_ir(dataLst,dataNameLst):\n",
    "    import matplotlib.pyplot as plt\n",
    "    \n",
    "    [dataLst[i][\"ir\"].hist(bins = max(dataLst[i][\"ir\"]) - min(dataLst[i][\"ir\"]),align='left') for i in range(len(dataLst))]\n",
    "     \n",
    "    plt.show()"
   ]
  },
  {
   "cell_type": "code",
   "execution_count": 65,
   "metadata": {},
   "outputs": [
    {
     "data": {
      "image/png": "[encoded data removed]",
      "text/plain": [
       "<Figure size 432x288 with 1 Axes>"
      ]
     },
     "metadata": {
      "needs_background": "light"
     },
     "output_type": "display_data"
    }
   ],
   "source": [
    "plot_sensor_lidar(dataLst ,dataNameLst)"
   ]
  },
  {
   "cell_type": "code",
   "execution_count": 67,
   "metadata": {},
   "outputs": [
    {
     "data": {
      "image/png": "[encoded data removed]",
      "text/plain": [
       "<Figure size 432x288 with 1 Axes>"
      ]
     },
     "metadata": {
      "needs_background": "light"
     },
     "output_type": "display_data"
    }
   ],
   "source": [
    "plot_sensor_ir(dataLst,dataNameLst)"
   ]
  }
 ],
 "metadata": {
  "kernelspec": {
   "display_name": "Python 3",
   "language": "python",
   "name": "python3"
  },
  "language_info": {
   "codemirror_mode": {
    "name": "ipython",
    "version": 3
   },
   "file_extension": ".py",
   "mimetype": "text/x-python",
   "name": "python",
   "nbconvert_exporter": "python",
   "pygments_lexer": "ipython3",
   "version": "3.6.8"
  }
 },
 "nbformat": 4,
 "nbformat_minor": 2
}
